{
 "cells": [
  {
   "cell_type": "code",
   "execution_count": 1,
   "id": "dcf8df08",
   "metadata": {
    "execution": {
     "iopub.execute_input": "2023-07-13T11:04:11.498919Z",
     "iopub.status.busy": "2023-07-13T11:04:11.498473Z",
     "iopub.status.idle": "2023-07-13T11:04:16.501695Z",
     "shell.execute_reply": "2023-07-13T11:04:16.500651Z"
    },
    "papermill": {
     "duration": 5.011213,
     "end_time": "2023-07-13T11:04:16.504395",
     "exception": false,
     "start_time": "2023-07-13T11:04:11.493182",
     "status": "completed"
    },
    "tags": []
   },
   "outputs": [
    {
     "name": "stderr",
     "output_type": "stream",
     "text": [
      "/opt/conda/lib/python3.10/site-packages/scipy/__init__.py:146: UserWarning: A NumPy version >=1.16.5 and <1.23.0 is required for this version of SciPy (detected version 1.23.5\n",
      "  warnings.warn(f\"A NumPy version >={np_minversion} and <{np_maxversion}\"\n"
     ]
    }
   ],
   "source": [
    "import os\n",
    "import pandas as pd\n",
    "import torch\n",
    "import torch.nn as nn\n",
    "from torch.utils.data import Dataset, DataLoader\n",
    "from skimage import io\n",
    "import numpy as np\n",
    "import torchvision\n",
    "import torchvision.transforms as transforms\n",
    "import warnings\n",
    "import torchvision.models as models\n",
    "import torch.optim as optim\n",
    "from sklearn.preprocessing import LabelEncoder\n",
    "from PIL import Image\n",
    "\n",
    "device = torch.device(\"cuda\" if torch.cuda.is_available() else 'cpu')\n",
    "warnings.filterwarnings('ignore')"
   ]
  },
  {
   "cell_type": "code",
   "execution_count": 2,
   "id": "b946f45d",
   "metadata": {
    "execution": {
     "iopub.execute_input": "2023-07-13T11:04:16.515708Z",
     "iopub.status.busy": "2023-07-13T11:04:16.514335Z",
     "iopub.status.idle": "2023-07-13T11:04:16.524532Z",
     "shell.execute_reply": "2023-07-13T11:04:16.523571Z"
    },
    "papermill": {
     "duration": 0.016918,
     "end_time": "2023-07-13T11:04:16.526527",
     "exception": false,
     "start_time": "2023-07-13T11:04:16.509609",
     "status": "completed"
    },
    "tags": []
   },
   "outputs": [],
   "source": [
    "transform = transforms.Compose([\n",
    "    transforms.Resize((224,224)),\n",
    "    transforms.RandomHorizontalFlip(),\n",
    "    transforms.ToTensor(),\n",
    "    transforms.Normalize(mean=[0.5,0.5,0.5],\n",
    "                        std=[0.25,0.25,0.25])\n",
    "])\n",
    "\n",
    "class butterfly_dataset(Dataset):\n",
    "    def __init__(self,csv_file,root_dir,transform=None):\n",
    "        self.annotations = pd.read_csv(csv_file)\n",
    "        self.root_dir = root_dir\n",
    "        self.transform = transform\n",
    "        \n",
    "        self.label_encoder = LabelEncoder()\n",
    "        self.annotations['label_encoded'] = self.label_encoder.fit_transform(self.annotations['label'])\n",
    "        \n",
    "    def __len__(self):\n",
    "        return len(self.annotations)\n",
    "    \n",
    "    def __getitem__(self,index):\n",
    "        img_path = os.path.join(self.root_dir,self.annotations.iloc[index,0])\n",
    "        image = io.imread(img_path)\n",
    "        image = Image.fromarray(image)\n",
    "        #y_label = torch.tensor(int(self.annotations.iloc[index,1]))\n",
    "        y_label = torch.tensor(int(self.annotations.iloc[index, 2]))\n",
    "        if self.transform:\n",
    "            image = self.transform(image)\n",
    "            \n",
    "        return (image,y_label)"
   ]
  },
  {
   "cell_type": "code",
   "execution_count": 3,
   "id": "b9a60c69",
   "metadata": {
    "execution": {
     "iopub.execute_input": "2023-07-13T11:04:16.533839Z",
     "iopub.status.busy": "2023-07-13T11:04:16.533561Z",
     "iopub.status.idle": "2023-07-13T11:04:16.567110Z",
     "shell.execute_reply": "2023-07-13T11:04:16.566166Z"
    },
    "papermill": {
     "duration": 0.039787,
     "end_time": "2023-07-13T11:04:16.569404",
     "exception": false,
     "start_time": "2023-07-13T11:04:16.529617",
     "status": "completed"
    },
    "tags": []
   },
   "outputs": [],
   "source": [
    "train_pth = '/kaggle/input/butterfly-image-classification/Training_set.csv'\n",
    "#tst_pth = '/kaggle/input/butterfly-image-classification/Testing_set.csv'\n",
    "train_root_dir = '/kaggle/input/butterfly-image-classification/train'\n",
    "#test_root_dir = '/kaggle/input/butterfly-image-classification/test'\n",
    "\n",
    "train_dataset = butterfly_dataset(train_pth,train_root_dir,transform=transform)\n",
    "#test_dataset = butterfly_dataset(tst_pth,test_root_dir,transform=transform)"
   ]
  },
  {
   "cell_type": "code",
   "execution_count": 4,
   "id": "d874a007",
   "metadata": {
    "execution": {
     "iopub.execute_input": "2023-07-13T11:04:16.577159Z",
     "iopub.status.busy": "2023-07-13T11:04:16.576865Z",
     "iopub.status.idle": "2023-07-13T11:04:16.581433Z",
     "shell.execute_reply": "2023-07-13T11:04:16.580471Z"
    },
    "papermill": {
     "duration": 0.010777,
     "end_time": "2023-07-13T11:04:16.583484",
     "exception": false,
     "start_time": "2023-07-13T11:04:16.572707",
     "status": "completed"
    },
    "tags": []
   },
   "outputs": [],
   "source": [
    "train_dataloader = DataLoader(train_dataset,batch_size=16,shuffle=True)\n",
    "#test_dataloader = DataLoader(test_dataset, batch_size=8)"
   ]
  },
  {
   "cell_type": "code",
   "execution_count": 5,
   "id": "d00ce2d4",
   "metadata": {
    "execution": {
     "iopub.execute_input": "2023-07-13T11:04:16.590873Z",
     "iopub.status.busy": "2023-07-13T11:04:16.590600Z",
     "iopub.status.idle": "2023-07-13T11:04:16.606602Z",
     "shell.execute_reply": "2023-07-13T11:04:16.605561Z"
    },
    "papermill": {
     "duration": 0.022645,
     "end_time": "2023-07-13T11:04:16.609160",
     "exception": false,
     "start_time": "2023-07-13T11:04:16.586515",
     "status": "completed"
    },
    "tags": []
   },
   "outputs": [
    {
     "data": {
      "text/plain": [
       "75"
      ]
     },
     "execution_count": 5,
     "metadata": {},
     "output_type": "execute_result"
    }
   ],
   "source": [
    "df = pd.read_csv(train_pth)\n",
    "df['label'].nunique()"
   ]
  },
  {
   "cell_type": "code",
   "execution_count": 6,
   "id": "b011a0c1",
   "metadata": {
    "execution": {
     "iopub.execute_input": "2023-07-13T11:04:16.616816Z",
     "iopub.status.busy": "2023-07-13T11:04:16.616537Z",
     "iopub.status.idle": "2023-07-13T11:04:18.491141Z",
     "shell.execute_reply": "2023-07-13T11:04:18.490160Z"
    },
    "papermill": {
     "duration": 1.881846,
     "end_time": "2023-07-13T11:04:18.494281",
     "exception": false,
     "start_time": "2023-07-13T11:04:16.612435",
     "status": "completed"
    },
    "tags": []
   },
   "outputs": [
    {
     "name": "stderr",
     "output_type": "stream",
     "text": [
      "Downloading: \"https://download.pytorch.org/models/resnet50-0676ba61.pth\" to /root/.cache/torch/hub/checkpoints/resnet50-0676ba61.pth\n",
      "100%|██████████| 97.8M/97.8M [00:01<00:00, 83.4MB/s]\n"
     ]
    }
   ],
   "source": [
    "model = models.resnet50(weights=True)\n",
    "\n",
    "#Freeze the weights of the ResNet50 model\n",
    "for params in model.parameters():\n",
    "    params.requires_grad = False\n",
    "    \n",
    "num_classes = 75\n",
    "model.fc = nn.Linear(model.fc.in_features, num_classes)\n",
    "\n",
    "## Setting up the optimizers\n",
    "criterion = nn.CrossEntropyLoss()\n",
    "optimizer = optim.SGD(model.fc.parameters(),lr=0.0005,momentum=0.9)"
   ]
  },
  {
   "cell_type": "code",
   "execution_count": 7,
   "id": "8f575f4e",
   "metadata": {
    "execution": {
     "iopub.execute_input": "2023-07-13T11:04:18.508739Z",
     "iopub.status.busy": "2023-07-13T11:04:18.508284Z",
     "iopub.status.idle": "2023-07-13T11:15:13.538131Z",
     "shell.execute_reply": "2023-07-13T11:15:13.537105Z"
    },
    "papermill": {
     "duration": 655.039451,
     "end_time": "2023-07-13T11:15:13.540446",
     "exception": false,
     "start_time": "2023-07-13T11:04:18.500995",
     "status": "completed"
    },
    "tags": []
   },
   "outputs": [
    {
     "name": "stdout",
     "output_type": "stream",
     "text": [
      "Epoch [1/20], Train Loss: 3.8313, Train Accuracy: 22.14%\n",
      "Epoch [2/20], Train Loss: 2.8462, Train Accuracy: 58.50%\n",
      "Epoch [3/20], Train Loss: 2.1732, Train Accuracy: 72.12%\n",
      "Epoch [4/20], Train Loss: 1.7481, Train Accuracy: 77.80%\n",
      "Epoch [5/20], Train Loss: 1.4620, Train Accuracy: 80.86%\n",
      "Epoch [6/20], Train Loss: 1.2621, Train Accuracy: 82.80%\n",
      "Epoch [7/20], Train Loss: 1.1254, Train Accuracy: 83.83%\n",
      "Epoch [8/20], Train Loss: 1.0209, Train Accuracy: 84.24%\n",
      "Epoch [9/20], Train Loss: 0.9353, Train Accuracy: 85.94%\n",
      "Epoch [10/20], Train Loss: 0.8693, Train Accuracy: 86.18%\n",
      "Epoch [11/20], Train Loss: 0.8110, Train Accuracy: 86.91%\n",
      "Epoch [12/20], Train Loss: 0.7712, Train Accuracy: 87.55%\n",
      "Epoch [13/20], Train Loss: 0.7253, Train Accuracy: 88.01%\n",
      "Epoch [14/20], Train Loss: 0.6873, Train Accuracy: 88.38%\n",
      "Epoch [15/20], Train Loss: 0.6515, Train Accuracy: 89.32%\n",
      "Epoch [16/20], Train Loss: 0.6223, Train Accuracy: 89.29%\n",
      "Epoch [17/20], Train Loss: 0.6138, Train Accuracy: 89.43%\n",
      "Epoch [18/20], Train Loss: 0.5917, Train Accuracy: 89.78%\n",
      "Epoch [19/20], Train Loss: 0.5802, Train Accuracy: 89.72%\n",
      "Epoch [20/20], Train Loss: 0.5472, Train Accuracy: 90.69%\n"
     ]
    }
   ],
   "source": [
    "num_epochs = 20\n",
    "\n",
    "# Move the model to GPU\n",
    "model.to(device)\n",
    "\n",
    "# Define dictionaries to store training and testing metrics\n",
    "train_metrics = {'loss': [], 'accuracy': []}\n",
    "test_metrics = {'loss': [], 'accuracy': []}\n",
    "\n",
    "# Training loop\n",
    "for epoch in range(num_epochs):\n",
    "    running_loss = 0.0\n",
    "    correct = 0\n",
    "    total = 0\n",
    "\n",
    "    # Training phase\n",
    "    model.train()  # Set the model to training mode\n",
    "    for images, labels in train_dataloader:\n",
    "        # Move the data to the GPU\n",
    "        images = images.to(device)\n",
    "        labels = labels.to(device)\n",
    "\n",
    "        # Forward pass + backward pass + optimize\n",
    "        outputs = model(images)\n",
    "        loss = criterion(outputs, labels)\n",
    "        optimizer.zero_grad(set_to_none=True)\n",
    "        loss.backward()\n",
    "        optimizer.step()\n",
    "\n",
    "        # Store the statistics\n",
    "        running_loss += loss.item() * images.size(0)\n",
    "        _, predicted = torch.max(outputs.data, 1)\n",
    "        total += labels.size(0)\n",
    "        correct += (predicted == labels).sum().item()\n",
    "\n",
    "    train_loss = running_loss / len(train_dataset)\n",
    "    train_accuracy = 100 * correct / total\n",
    "\n",
    "    train_metrics['loss'].append(train_loss)\n",
    "    train_metrics['accuracy'].append(train_accuracy)\n",
    "\n",
    "    # Print training statistics\n",
    "    print(f\"Epoch [{epoch + 1}/{num_epochs}], Train Loss: {train_loss:.4f}, Train Accuracy: {train_accuracy:.2f}%\")"
   ]
  },
  {
   "cell_type": "code",
   "execution_count": 8,
   "id": "88d9b364",
   "metadata": {
    "execution": {
     "iopub.execute_input": "2023-07-13T11:15:13.553892Z",
     "iopub.status.busy": "2023-07-13T11:15:13.553598Z",
     "iopub.status.idle": "2023-07-13T11:15:13.864198Z",
     "shell.execute_reply": "2023-07-13T11:15:13.863158Z"
    },
    "papermill": {
     "duration": 0.319974,
     "end_time": "2023-07-13T11:15:13.866417",
     "exception": false,
     "start_time": "2023-07-13T11:15:13.546443",
     "status": "completed"
    },
    "tags": []
   },
   "outputs": [
    {
     "data": {
      "image/png": "[encoded data removed]",
      "text/plain": [
       "<Figure size 1000x500 with 1 Axes>"
      ]
     },
     "metadata": {},
     "output_type": "display_data"
    }
   ],
   "source": [
    "# Plot the learning curve\n",
    "import matplotlib.pyplot as plt\n",
    "\n",
    "plt.figure(figsize=(10, 5))\n",
    "plt.plot(train_metrics['loss'], label='Train Loss')\n",
    "plt.plot(train_metrics['accuracy'], label='Train Accuracy')\n",
    "plt.xlabel('Epoch')\n",
    "plt.ylabel('Value')\n",
    "plt.title('Learning Curve')\n",
    "plt.legend()\n",
    "plt.show()"
   ]
  }
 ],
 "metadata": {
  "kernelspec": {
   "display_name": "Python 3",
   "language": "python",
   "name": "python3"
  },
  "language_info": {
   "codemirror_mode": {
    "name": "ipython",
    "version": 3
   },
   "file_extension": ".py",
   "mimetype": "text/x-python",
   "name": "python",
   "nbconvert_exporter": "python",
   "pygments_lexer": "ipython3",
   "version": "3.10.12"
  },
  "papermill": {
   "default_parameters": {},
   "duration": 675.076149,
   "end_time": "2023-07-13T11:15:16.484029",
   "environment_variables": {},
   "exception": null,
   "input_path": "__notebook__.ipynb",
   "output_path": "__notebook__.ipynb",
   "parameters": {},
   "start_time": "2023-07-13T11:04:01.407880",
   "version": "2.4.0"
  }
 },
 "nbformat": 4,
 "nbformat_minor": 5
}
