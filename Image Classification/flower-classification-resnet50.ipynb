{
 "cells": [
  {
   "cell_type": "markdown",
   "id": "6a5f3cdd",
   "metadata": {
    "papermill": {
     "duration": 0.004377,
     "end_time": "2023-05-01T10:34:57.515251",
     "exception": false,
     "start_time": "2023-05-01T10:34:57.510874",
     "status": "completed"
    },
    "tags": []
   },
   "source": [
    "## Import Libraries"
   ]
  },
  {
   "cell_type": "code",
   "execution_count": 1,
   "id": "ec2c361e",
   "metadata": {
    "execution": {
     "iopub.execute_input": "2023-05-01T10:34:57.524113Z",
     "iopub.status.busy": "2023-05-01T10:34:57.523644Z",
     "iopub.status.idle": "2023-05-01T10:34:59.932166Z",
     "shell.execute_reply": "2023-05-01T10:34:59.931153Z"
    },
    "papermill": {
     "duration": 2.416049,
     "end_time": "2023-05-01T10:34:59.934761",
     "exception": false,
     "start_time": "2023-05-01T10:34:57.518712",
     "status": "completed"
    },
    "tags": []
   },
   "outputs": [],
   "source": [
    "from pathlib import Path\n",
    "import torch\n",
    "import torch.nn as nn\n",
    "import torchvision\n",
    "import numpy as np\n",
    "import matplotlib.pyplot as plt\n",
    "plt.style.use('ggplot')\n",
    "\n",
    "path = Path('/kaggle/input/5-flower-types-classification-dataset/flower_images')"
   ]
  },
  {
   "cell_type": "code",
   "execution_count": 2,
   "id": "3a1aea6d",
   "metadata": {
    "execution": {
     "iopub.execute_input": "2023-05-01T10:34:59.944494Z",
     "iopub.status.busy": "2023-05-01T10:34:59.942735Z",
     "iopub.status.idle": "2023-05-01T10:34:59.995648Z",
     "shell.execute_reply": "2023-05-01T10:34:59.994568Z"
    },
    "papermill": {
     "duration": 0.0594,
     "end_time": "2023-05-01T10:34:59.997802",
     "exception": false,
     "start_time": "2023-05-01T10:34:59.938402",
     "status": "completed"
    },
    "tags": []
   },
   "outputs": [
    {
     "data": {
      "text/plain": [
       "'cuda'"
      ]
     },
     "execution_count": 2,
     "metadata": {},
     "output_type": "execute_result"
    }
   ],
   "source": [
    "device = 'cuda' if torch.cuda.is_available() else 'cpu'\n",
    "device"
   ]
  },
  {
   "cell_type": "code",
   "execution_count": 3,
   "id": "e196d8b2",
   "metadata": {
    "execution": {
     "iopub.execute_input": "2023-05-01T10:35:00.006821Z",
     "iopub.status.busy": "2023-05-01T10:35:00.005776Z",
     "iopub.status.idle": "2023-05-01T10:35:00.012336Z",
     "shell.execute_reply": "2023-05-01T10:35:00.011401Z"
    },
    "papermill": {
     "duration": 0.013226,
     "end_time": "2023-05-01T10:35:00.014589",
     "exception": false,
     "start_time": "2023-05-01T10:35:00.001363",
     "status": "completed"
    },
    "tags": []
   },
   "outputs": [],
   "source": [
    "import torchvision.transforms as transforms\n",
    "from torch.utils.data import DataLoader, random_split\n",
    "from torchvision.datasets import ImageFolder\n",
    "\n",
    "transform = transforms.Compose([\n",
    "    transforms.Resize((224, 224)),\n",
    "    transforms.RandomHorizontalFlip(),\n",
    "    transforms.ToTensor(),\n",
    "    transforms.Normalize(mean=[0.5, 0.5, 0.5], std=[0.5, 0.5, 0.5])\n",
    "])"
   ]
  },
  {
   "cell_type": "code",
   "execution_count": 4,
   "id": "a5767c92",
   "metadata": {
    "execution": {
     "iopub.execute_input": "2023-05-01T10:35:00.023352Z",
     "iopub.status.busy": "2023-05-01T10:35:00.022434Z",
     "iopub.status.idle": "2023-05-01T10:35:00.806132Z",
     "shell.execute_reply": "2023-05-01T10:35:00.804961Z"
    },
    "papermill": {
     "duration": 0.791852,
     "end_time": "2023-05-01T10:35:00.809869",
     "exception": false,
     "start_time": "2023-05-01T10:35:00.018017",
     "status": "completed"
    },
    "tags": []
   },
   "outputs": [
    {
     "data": {
      "text/plain": [
       "Dataset ImageFolder\n",
       "    Number of datapoints: 4999\n",
       "    Root location: /kaggle/input/5-flower-types-classification-dataset/flower_images\n",
       "    StandardTransform\n",
       "Transform: Compose(\n",
       "               Resize(size=(224, 224), interpolation=bilinear, max_size=None, antialias=None)\n",
       "               RandomHorizontalFlip(p=0.5)\n",
       "               ToTensor()\n",
       "               Normalize(mean=[0.5, 0.5, 0.5], std=[0.5, 0.5, 0.5])\n",
       "           )"
      ]
     },
     "execution_count": 4,
     "metadata": {},
     "output_type": "execute_result"
    }
   ],
   "source": [
    "dataset = ImageFolder(path, transform=transform)\n",
    "dataset"
   ]
  },
  {
   "cell_type": "markdown",
   "id": "1f916726",
   "metadata": {
    "papermill": {
     "duration": 0.003307,
     "end_time": "2023-05-01T10:35:00.817718",
     "exception": false,
     "start_time": "2023-05-01T10:35:00.814411",
     "status": "completed"
    },
    "tags": []
   },
   "source": [
    "## Split into Train and Validation Set"
   ]
  },
  {
   "cell_type": "code",
   "execution_count": 5,
   "id": "0f147d14",
   "metadata": {
    "execution": {
     "iopub.execute_input": "2023-05-01T10:35:00.826282Z",
     "iopub.status.busy": "2023-05-01T10:35:00.825903Z",
     "iopub.status.idle": "2023-05-01T10:35:00.848483Z",
     "shell.execute_reply": "2023-05-01T10:35:00.847487Z"
    },
    "papermill": {
     "duration": 0.029571,
     "end_time": "2023-05-01T10:35:00.850719",
     "exception": false,
     "start_time": "2023-05-01T10:35:00.821148",
     "status": "completed"
    },
    "tags": []
   },
   "outputs": [],
   "source": [
    "train_size = int(0.8 * len(dataset))\n",
    "val_size = len(dataset) - train_size\n",
    "train_dataset, val_dataset = random_split(dataset, [train_size, val_size])"
   ]
  },
  {
   "cell_type": "code",
   "execution_count": 6,
   "id": "09a9df84",
   "metadata": {
    "execution": {
     "iopub.execute_input": "2023-05-01T10:35:00.859521Z",
     "iopub.status.busy": "2023-05-01T10:35:00.858848Z",
     "iopub.status.idle": "2023-05-01T10:35:00.865267Z",
     "shell.execute_reply": "2023-05-01T10:35:00.864359Z"
    },
    "papermill": {
     "duration": 0.013058,
     "end_time": "2023-05-01T10:35:00.867392",
     "exception": false,
     "start_time": "2023-05-01T10:35:00.854334",
     "status": "completed"
    },
    "tags": []
   },
   "outputs": [],
   "source": [
    "batch_size = 64\n",
    "\n",
    "train_loader = DataLoader(train_dataset, batch_size=batch_size, shuffle=True)\n",
    "val_loader = DataLoader(val_dataset, batch_size=batch_size, shuffle=False)"
   ]
  },
  {
   "cell_type": "markdown",
   "id": "5c72e0ab",
   "metadata": {
    "papermill": {
     "duration": 0.003299,
     "end_time": "2023-05-01T10:35:00.874165",
     "exception": false,
     "start_time": "2023-05-01T10:35:00.870866",
     "status": "completed"
    },
    "tags": []
   },
   "source": [
    "## Instantiate the model"
   ]
  },
  {
   "cell_type": "code",
   "execution_count": 7,
   "id": "216e10ed",
   "metadata": {
    "execution": {
     "iopub.execute_input": "2023-05-01T10:35:00.884313Z",
     "iopub.status.busy": "2023-05-01T10:35:00.882381Z",
     "iopub.status.idle": "2023-05-01T10:35:02.308504Z",
     "shell.execute_reply": "2023-05-01T10:35:02.307428Z"
    },
    "papermill": {
     "duration": 1.433507,
     "end_time": "2023-05-01T10:35:02.311078",
     "exception": false,
     "start_time": "2023-05-01T10:35:00.877571",
     "status": "completed"
    },
    "tags": []
   },
   "outputs": [
    {
     "name": "stderr",
     "output_type": "stream",
     "text": [
      "/opt/conda/lib/python3.7/site-packages/torchvision/models/_utils.py:209: UserWarning: The parameter 'pretrained' is deprecated since 0.13 and may be removed in the future, please use 'weights' instead.\n",
      "  f\"The parameter '{pretrained_param}' is deprecated since 0.13 and may be removed in the future, \"\n",
      "/opt/conda/lib/python3.7/site-packages/torchvision/models/_utils.py:223: UserWarning: Arguments other than a weight enum or `None` for 'weights' are deprecated since 0.13 and may be removed in the future. The current behavior is equivalent to passing `weights=ResNet50_Weights.IMAGENET1K_V1`. You can also use `weights=ResNet50_Weights.DEFAULT` to get the most up-to-date weights.\n",
      "  warnings.warn(msg)\n",
      "Downloading: \"https://download.pytorch.org/models/resnet50-0676ba61.pth\" to /root/.cache/torch/hub/checkpoints/resnet50-0676ba61.pth\n"
     ]
    },
    {
     "data": {
      "application/vnd.jupyter.widget-view+json": {
       "model_id": "4b6e2c83f56f4396b415bca813cf2894",
       "version_major": 2,
       "version_minor": 0
      },
      "text/plain": [
       "  0%|          | 0.00/97.8M [00:00<?, ?B/s]"
      ]
     },
     "metadata": {},
     "output_type": "display_data"
    }
   ],
   "source": [
    "import torchvision.models as models\n",
    "\n",
    "model = models.resnet50(pretrained=True)\n",
    "\n",
    "# Freeze the weights of the ResNet50 model\n",
    "for param in model.parameters():\n",
    "    param.requires_grad = False\n",
    "    \n",
    "num_classes = 5\n",
    "model.fc = nn.Linear(model.fc.in_features, num_classes)"
   ]
  },
  {
   "cell_type": "code",
   "execution_count": 8,
   "id": "98e87bda",
   "metadata": {
    "execution": {
     "iopub.execute_input": "2023-05-01T10:35:02.320499Z",
     "iopub.status.busy": "2023-05-01T10:35:02.320161Z",
     "iopub.status.idle": "2023-05-01T10:35:02.325474Z",
     "shell.execute_reply": "2023-05-01T10:35:02.324418Z"
    },
    "papermill": {
     "duration": 0.012363,
     "end_time": "2023-05-01T10:35:02.327614",
     "exception": false,
     "start_time": "2023-05-01T10:35:02.315251",
     "status": "completed"
    },
    "tags": []
   },
   "outputs": [],
   "source": [
    "import torch.optim as optim\n",
    "\n",
    "criterion = nn.CrossEntropyLoss()\n",
    "optimizer = optim.SGD(model.fc.parameters(), lr=0.0005, momentum=0.9)"
   ]
  },
  {
   "cell_type": "markdown",
   "id": "31ba0ebb",
   "metadata": {
    "papermill": {
     "duration": 0.003475,
     "end_time": "2023-05-01T10:35:02.334752",
     "exception": false,
     "start_time": "2023-05-01T10:35:02.331277",
     "status": "completed"
    },
    "tags": []
   },
   "source": [
    "## Train the model"
   ]
  },
  {
   "cell_type": "code",
   "execution_count": 9,
   "id": "e6105590",
   "metadata": {
    "execution": {
     "iopub.execute_input": "2023-05-01T10:35:02.343549Z",
     "iopub.status.busy": "2023-05-01T10:35:02.343265Z",
     "iopub.status.idle": "2023-05-01T10:54:14.514189Z",
     "shell.execute_reply": "2023-05-01T10:54:14.512624Z"
    },
    "papermill": {
     "duration": 1152.178088,
     "end_time": "2023-05-01T10:54:14.516610",
     "exception": false,
     "start_time": "2023-05-01T10:35:02.338522",
     "status": "completed"
    },
    "tags": []
   },
   "outputs": [
    {
     "name": "stdout",
     "output_type": "stream",
     "text": [
      "Epoch 1 training loss: 1.3375 accuracy: 0.5279\n",
      "Test loss: 1.0237 accuracy: 0.7310\n",
      "Epoch 2 training loss: 0.8469 accuracy: 0.8197\n",
      "Test loss: 0.7577 accuracy: 0.8100\n",
      "Epoch 3 training loss: 0.6675 accuracy: 0.8487\n",
      "Test loss: 0.6452 accuracy: 0.8380\n",
      "Epoch 4 training loss: 0.5826 accuracy: 0.8595\n",
      "Test loss: 0.5831 accuracy: 0.8490\n",
      "Epoch 5 training loss: 0.5334 accuracy: 0.8647\n",
      "Test loss: 0.5462 accuracy: 0.8450\n",
      "Epoch 6 training loss: 0.4956 accuracy: 0.8645\n",
      "Test loss: 0.5184 accuracy: 0.8550\n",
      "Epoch 7 training loss: 0.4673 accuracy: 0.8680\n",
      "Test loss: 0.5055 accuracy: 0.8520\n",
      "Epoch 8 training loss: 0.4478 accuracy: 0.8762\n",
      "Test loss: 0.4820 accuracy: 0.8540\n",
      "Epoch 9 training loss: 0.4316 accuracy: 0.8775\n",
      "Test loss: 0.4650 accuracy: 0.8640\n",
      "Epoch 10 training loss: 0.4179 accuracy: 0.8772\n",
      "Test loss: 0.4499 accuracy: 0.8600\n",
      "Epoch 11 training loss: 0.3952 accuracy: 0.8852\n",
      "Test loss: 0.4456 accuracy: 0.8700\n",
      "Epoch 12 training loss: 0.3920 accuracy: 0.8845\n",
      "Test loss: 0.4389 accuracy: 0.8620\n",
      "Epoch 13 training loss: 0.3829 accuracy: 0.8897\n",
      "Test loss: 0.4257 accuracy: 0.8710\n",
      "Epoch 14 training loss: 0.3692 accuracy: 0.8860\n",
      "Test loss: 0.4234 accuracy: 0.8620\n",
      "Epoch 15 training loss: 0.3717 accuracy: 0.8900\n",
      "Test loss: 0.4200 accuracy: 0.8660\n",
      "Epoch 16 training loss: 0.3613 accuracy: 0.8922\n",
      "Test loss: 0.4186 accuracy: 0.8650\n",
      "Epoch 17 training loss: 0.3595 accuracy: 0.8880\n",
      "Test loss: 0.4069 accuracy: 0.8720\n",
      "Epoch 18 training loss: 0.3485 accuracy: 0.8952\n",
      "Test loss: 0.4113 accuracy: 0.8620\n",
      "Epoch 19 training loss: 0.3453 accuracy: 0.8922\n",
      "Test loss: 0.3893 accuracy: 0.8750\n",
      "Epoch 20 training loss: 0.3364 accuracy: 0.8962\n",
      "Test loss: 0.3959 accuracy: 0.8660\n"
     ]
    }
   ],
   "source": [
    "num_epochs = 20\n",
    "\n",
    "# Move the model to the GPU\n",
    "model.to(device)\n",
    "\n",
    "# Define dictionaries to store training and testing metrics\n",
    "train_metrics = {'loss': [], 'accuracy': []}\n",
    "test_metrics = {'loss': [], 'accuracy': []}\n",
    "\n",
    "for epoch in range(num_epochs):\n",
    "    running_loss = 0.0\n",
    "    correct = 0\n",
    "    total = 0\n",
    "    \n",
    "    for images, labels in train_loader:\n",
    "        # Move input data to the GPU\n",
    "        images = images.to(device)\n",
    "        labels = labels.to(device)\n",
    "\n",
    "        # Zero the parameter gradients\n",
    "        optimizer.zero_grad()\n",
    "\n",
    "        # Forward + backward + optimize\n",
    "        outputs = model(images)\n",
    "        loss = criterion(outputs, labels)\n",
    "        loss.backward()\n",
    "        optimizer.step()\n",
    "\n",
    "        # Print statistics\n",
    "        running_loss += loss.item() * images.size(0)\n",
    "        _, predicted = torch.max(outputs.data, 1)\n",
    "        total += labels.size(0)\n",
    "        correct += (predicted == labels).sum().item()\n",
    "\n",
    "    # Calculate training metrics and store them in dictionary\n",
    "    epoch_loss = running_loss / len(train_loader.dataset)\n",
    "    epoch_acc = correct / total\n",
    "    train_metrics['loss'].append(epoch_loss)\n",
    "    train_metrics['accuracy'].append(epoch_acc)\n",
    "    print(f'Epoch {epoch + 1} training loss: {epoch_loss:.4f} accuracy: {epoch_acc:.4f}')\n",
    "\n",
    "    # Evaluate the model on the test set and store metrics in dictionary\n",
    "    running_loss = 0.0\n",
    "    correct = 0\n",
    "    total = 0\n",
    "    with torch.no_grad():\n",
    "        for images, labels in val_loader:\n",
    "            images = images.to(device)\n",
    "            labels = labels.to(device)\n",
    "\n",
    "            outputs = model(images)\n",
    "            loss = criterion(outputs, labels)\n",
    "            running_loss += loss.item() * images.size(0)\n",
    "            _, predicted = torch.max(outputs.data, 1)\n",
    "            total += labels.size(0)\n",
    "            correct += (predicted == labels).sum().item()\n",
    "\n",
    "    epoch_loss = running_loss / len(val_loader.dataset)\n",
    "    epoch_acc = correct / total\n",
    "    test_metrics['loss'].append(epoch_loss)\n",
    "    test_metrics['accuracy'].append(epoch_acc)\n",
    "    print(f'Test loss: {epoch_loss:.4f} accuracy: {epoch_acc:.4f}')"
   ]
  },
  {
   "cell_type": "code",
   "execution_count": 10,
   "id": "6d3a22ca",
   "metadata": {
    "execution": {
     "iopub.execute_input": "2023-05-01T10:54:14.529686Z",
     "iopub.status.busy": "2023-05-01T10:54:14.529371Z",
     "iopub.status.idle": "2023-05-01T10:54:15.092693Z",
     "shell.execute_reply": "2023-05-01T10:54:15.091703Z"
    },
    "papermill": {
     "duration": 0.572484,
     "end_time": "2023-05-01T10:54:15.094922",
     "exception": false,
     "start_time": "2023-05-01T10:54:14.522438",
     "status": "completed"
    },
    "tags": []
   },
   "outputs": [
    {
     "data": {
      "image/png": "[encoded data removed]",
      "text/plain": [
       "<Figure size 640x480 with 1 Axes>"
      ]
     },
     "metadata": {},
     "output_type": "display_data"
    },
    {
     "data": {
      "image/png": "[encoded data removed]",
      "text/plain": [
       "<Figure size 640x480 with 1 Axes>"
      ]
     },
     "metadata": {},
     "output_type": "display_data"
    }
   ],
   "source": [
    "import matplotlib.pyplot as plt\n",
    "\n",
    "# Plot training and testing loss\n",
    "plt.plot(train_metrics['loss'], label='Training Loss')\n",
    "plt.plot(test_metrics['loss'], label='Testing Loss')\n",
    "plt.xlabel('Epoch')\n",
    "plt.ylabel('Loss')\n",
    "plt.legend()\n",
    "plt.show()\n",
    "\n",
    "# Plot training and testing accuracy\n",
    "plt.plot(train_metrics['accuracy'], label='Training Accuracy')\n",
    "plt.plot(test_metrics['accuracy'], label='Testing Accuracy')\n",
    "plt.xlabel('Epoch')\n",
    "plt.ylabel('Accuracy')\n",
    "plt.legend()\n",
    "plt.show()"
   ]
  },
  {
   "cell_type": "markdown",
   "id": "fc803d12",
   "metadata": {
    "papermill": {
     "duration": 0.00647,
     "end_time": "2023-05-01T10:54:15.108408",
     "exception": false,
     "start_time": "2023-05-01T10:54:15.101938",
     "status": "completed"
    },
    "tags": []
   },
   "source": [
    "If you like this notebook, don't forget to **upvote** this notebook!!!\n",
    "Leave comments if you have any suggestions to improve it."
   ]
  }
 ],
 "metadata": {
  "kernelspec": {
   "display_name": "Python 3",
   "language": "python",
   "name": "python3"
  },
  "language_info": {
   "codemirror_mode": {
    "name": "ipython",
    "version": 3
   },
   "file_extension": ".py",
   "mimetype": "text/x-python",
   "name": "python",
   "nbconvert_exporter": "python",
   "pygments_lexer": "ipython3",
   "version": "3.7.12"
  },
  "papermill": {
   "default_parameters": {},
   "duration": 1168.194648,
   "end_time": "2023-05-01T10:54:16.740960",
   "environment_variables": {},
   "exception": null,
   "input_path": "__notebook__.ipynb",
   "output_path": "__notebook__.ipynb",
   "parameters": {},
   "start_time": "2023-05-01T10:34:48.546312",
   "version": "2.4.0"
  },
  "widgets": {
   "application/vnd.jupyter.widget-state+json": {
    "state": {
     "0de6ae38e1a44f5388563421434f1840": {
      "model_module": "@jupyter-widgets/base",
      "model_module_version": "1.2.0",
      "model_name": "LayoutModel",
      "state": {
       "_model_module": "@jupyter-widgets/base",
       "_model_module_version": "1.2.0",
       "_model_name": "LayoutModel",
       "_view_count": null,
       "_view_module": "@jupyter-widgets/base",
       "_view_module_version": "1.2.0",
       "_view_name": "LayoutView",
       "align_content": null,
       "align_items": null,
       "align_self": null,
       "border": null,
       "bottom": null,
       "display": null,
       "flex": null,
       "flex_flow": null,
       "grid_area": null,
       "grid_auto_columns": null,
       "grid_auto_flow": null,
       "grid_auto_rows": null,
       "grid_column": null,
       "grid_gap": null,
       "grid_row": null,
       "grid_template_areas": null,
       "grid_template_columns": null,
       "grid_template_rows": null,
       "height": null,
       "justify_content": null,
       "justify_items": null,
       "left": null,
       "margin": null,
       "max_height": null,
       "max_width": null,
       "min_height": null,
       "min_width": null,
       "object_fit": null,
       "object_position": null,
       "order": null,
       "overflow": null,
       "overflow_x": null,
       "overflow_y": null,
       "padding": null,
       "right": null,
       "top": null,
       "visibility": null,
       "width": null
      }
     },
     "4b6e2c83f56f4396b415bca813cf2894": {
      "model_module": "@jupyter-widgets/controls",
      "model_module_version": "1.5.0",
      "model_name": "HBoxModel",
      "state": {
       "_dom_classes": [],
       "_model_module": "@jupyter-widgets/controls",
       "_model_module_version": "1.5.0",
       "_model_name": "HBoxModel",
       "_view_count": null,
       "_view_module": "@jupyter-widgets/controls",
       "_view_module_version": "1.5.0",
       "_view_name": "HBoxView",
       "box_style": "",
       "children": [
        "IPY_MODEL_88ab7430e98340ada24a57dc6404f1b5",
        "IPY_MODEL_5773ee14bd3c4911a2ea7fe5cf350218",
        "IPY_MODEL_c5affac36b5346448724b36c098d7544"
       ],
       "layout": "IPY_MODEL_fdb99d43dfa84ca0ae0aa381b0fc0747"
      }
     },
     "56acd1f2c1a74b95a8fe8379aaa37375": {
      "model_module": "@jupyter-widgets/controls",
      "model_module_version": "1.5.0",
      "model_name": "DescriptionStyleModel",
      "state": {
       "_model_module": "@jupyter-widgets/controls",
       "_model_module_version": "1.5.0",
       "_model_name": "DescriptionStyleModel",
       "_view_count": null,
       "_view_module": "@jupyter-widgets/base",
       "_view_module_version": "1.2.0",
       "_view_name": "StyleView",
       "description_width": ""
      }
     },
     "5773ee14bd3c4911a2ea7fe5cf350218": {
      "model_module": "@jupyter-widgets/controls",
      "model_module_version": "1.5.0",
      "model_name": "FloatProgressModel",
      "state": {
       "_dom_classes": [],
       "_model_module": "@jupyter-widgets/controls",
       "_model_module_version": "1.5.0",
       "_model_name": "FloatProgressModel",
       "_view_count": null,
       "_view_module": "@jupyter-widgets/controls",
       "_view_module_version": "1.5.0",
       "_view_name": "ProgressView",
       "bar_style": "success",
       "description": "",
       "description_tooltip": null,
       "layout": "IPY_MODEL_92363a00857a4c2dad8d56de347e6ab1",
       "max": 102530333.0,
       "min": 0.0,
       "orientation": "horizontal",
       "style": "IPY_MODEL_cf6338b047b34f12a40245b1ead78335",
       "value": 102530333.0
      }
     },
     "88ab7430e98340ada24a57dc6404f1b5": {
      "model_module": "@jupyter-widgets/controls",
      "model_module_version": "1.5.0",
      "model_name": "HTMLModel",
      "state": {
       "_dom_classes": [],
       "_model_module": "@jupyter-widgets/controls",
       "_model_module_version": "1.5.0",
       "_model_name": "HTMLModel",
       "_view_count": null,
       "_view_module": "@jupyter-widgets/controls",
       "_view_module_version": "1.5.0",
       "_view_name": "HTMLView",
       "description": "",
       "description_tooltip": null,
       "layout": "IPY_MODEL_0de6ae38e1a44f5388563421434f1840",
       "placeholder": "​",
       "style": "IPY_MODEL_56acd1f2c1a74b95a8fe8379aaa37375",
       "value": "100%"
      }
     },
     "92363a00857a4c2dad8d56de347e6ab1": {
      "model_module": "@jupyter-widgets/base",
      "model_module_version": "1.2.0",
      "model_name": "LayoutModel",
      "state": {
       "_model_module": "@jupyter-widgets/base",
       "_model_module_version": "1.2.0",
       "_model_name": "LayoutModel",
       "_view_count": null,
       "_view_module": "@jupyter-widgets/base",
       "_view_module_version": "1.2.0",
       "_view_name": "LayoutView",
       "align_content": null,
       "align_items": null,
       "align_self": null,
       "border": null,
       "bottom": null,
       "display": null,
       "flex": null,
       "flex_flow": null,
       "grid_area": null,
       "grid_auto_columns": null,
       "grid_auto_flow": null,
       "grid_auto_rows": null,
       "grid_column": null,
       "grid_gap": null,
       "grid_row": null,
       "grid_template_areas": null,
       "grid_template_columns": null,
       "grid_template_rows": null,
       "height": null,
       "justify_content": null,
       "justify_items": null,
       "left": null,
       "margin": null,
       "max_height": null,
       "max_width": null,
       "min_height": null,
       "min_width": null,
       "object_fit": null,
       "object_position": null,
       "order": null,
       "overflow": null,
       "overflow_x": null,
       "overflow_y": null,
       "padding": null,
       "right": null,
       "top": null,
       "visibility": null,
       "width": null
      }
     },
     "9b34d44e49ce4ff997224884ea5dbc21": {
      "model_module": "@jupyter-widgets/base",
      "model_module_version": "1.2.0",
      "model_name": "LayoutModel",
      "state": {
       "_model_module": "@jupyter-widgets/base",
       "_model_module_version": "1.2.0",
       "_model_name": "LayoutModel",
       "_view_count": null,
       "_view_module": "@jupyter-widgets/base",
       "_view_module_version": "1.2.0",
       "_view_name": "LayoutView",
       "align_content": null,
       "align_items": null,
       "align_self": null,
       "border": null,
       "bottom": null,
       "display": null,
       "flex": null,
       "flex_flow": null,
       "grid_area": null,
       "grid_auto_columns": null,
       "grid_auto_flow": null,
       "grid_auto_rows": null,
       "grid_column": null,
       "grid_gap": null,
       "grid_row": null,
       "grid_template_areas": null,
       "grid_template_columns": null,
       "grid_template_rows": null,
       "height": null,
       "justify_content": null,
       "justify_items": null,
       "left": null,
       "margin": null,
       "max_height": null,
       "max_width": null,
       "min_height": null,
       "min_width": null,
       "object_fit": null,
       "object_position": null,
       "order": null,
       "overflow": null,
       "overflow_x": null,
       "overflow_y": null,
       "padding": null,
       "right": null,
       "top": null,
       "visibility": null,
       "width": null
      }
     },
     "c3bb714b9186478eb183b2291762d35a": {
      "model_module": "@jupyter-widgets/controls",
      "model_module_version": "1.5.0",
      "model_name": "DescriptionStyleModel",
      "state": {
       "_model_module": "@jupyter-widgets/controls",
       "_model_module_version": "1.5.0",
       "_model_name": "DescriptionStyleModel",
       "_view_count": null,
       "_view_module": "@jupyter-widgets/base",
       "_view_module_version": "1.2.0",
       "_view_name": "StyleView",
       "description_width": ""
      }
     },
     "c5affac36b5346448724b36c098d7544": {
      "model_module": "@jupyter-widgets/controls",
      "model_module_version": "1.5.0",
      "model_name": "HTMLModel",
      "state": {
       "_dom_classes": [],
       "_model_module": "@jupyter-widgets/controls",
       "_model_module_version": "1.5.0",
       "_model_name": "HTMLModel",
       "_view_count": null,
       "_view_module": "@jupyter-widgets/controls",
       "_view_module_version": "1.5.0",
       "_view_name": "HTMLView",
       "description": "",
       "description_tooltip": null,
       "layout": "IPY_MODEL_9b34d44e49ce4ff997224884ea5dbc21",
       "placeholder": "​",
       "style": "IPY_MODEL_c3bb714b9186478eb183b2291762d35a",
       "value": " 97.8M/97.8M [00:00&lt;00:00, 138MB/s]"
      }
     },
     "cf6338b047b34f12a40245b1ead78335": {
      "model_module": "@jupyter-widgets/controls",
      "model_module_version": "1.5.0",
      "model_name": "ProgressStyleModel",
      "state": {
       "_model_module": "@jupyter-widgets/controls",
       "_model_module_version": "1.5.0",
       "_model_name": "ProgressStyleModel",
       "_view_count": null,
       "_view_module": "@jupyter-widgets/base",
       "_view_module_version": "1.2.0",
       "_view_name": "StyleView",
       "bar_color": null,
       "description_width": ""
      }
     },
     "fdb99d43dfa84ca0ae0aa381b0fc0747": {
      "model_module": "@jupyter-widgets/base",
      "model_module_version": "1.2.0",
      "model_name": "LayoutModel",
      "state": {
       "_model_module": "@jupyter-widgets/base",
       "_model_module_version": "1.2.0",
       "_model_name": "LayoutModel",
       "_view_count": null,
       "_view_module": "@jupyter-widgets/base",
       "_view_module_version": "1.2.0",
       "_view_name": "LayoutView",
       "align_content": null,
       "align_items": null,
       "align_self": null,
       "border": null,
       "bottom": null,
       "display": null,
       "flex": null,
       "flex_flow": null,
       "grid_area": null,
       "grid_auto_columns": null,
       "grid_auto_flow": null,
       "grid_auto_rows": null,
       "grid_column": null,
       "grid_gap": null,
       "grid_row": null,
       "grid_template_areas": null,
       "grid_template_columns": null,
       "grid_template_rows": null,
       "height": null,
       "justify_content": null,
       "justify_items": null,
       "left": null,
       "margin": null,
       "max_height": null,
       "max_width": null,
       "min_height": null,
       "min_width": null,
       "object_fit": null,
       "object_position": null,
       "order": null,
       "overflow": null,
       "overflow_x": null,
       "overflow_y": null,
       "padding": null,
       "right": null,
       "top": null,
       "visibility": null,
       "width": null
      }
     }
    },
    "version_major": 2,
    "version_minor": 0
   }
  }
 },
 "nbformat": 4,
 "nbformat_minor": 5
}
